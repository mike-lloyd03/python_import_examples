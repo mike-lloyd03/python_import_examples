{
 "cells": [
  {
   "cell_type": "code",
   "execution_count": 10,
   "id": "3c1020b6",
   "metadata": {},
   "outputs": [],
   "source": [
    "import sys\n",
    "\n",
    "# Jupyter doesn't seem to know the name of the parent directory but\n",
    "# apparently we can import all modules in the parent directory with \n",
    "# a glob. This actually doesn't seem to work in a .py file\n",
    "sys.path.append(\"../*\")\n",
    "\n",
    "from math_fcns.div import div\n",
    "from more_fcns import add\n",
    "from subtract import sub"
   ]
  },
  {
   "cell_type": "code",
   "execution_count": 9,
   "id": "48bbd35e",
   "metadata": {},
   "outputs": [
    {
     "name": "stdout",
     "output_type": "stream",
     "text": [
      "3.0\n",
      "20\n",
      "10\n"
     ]
    }
   ],
   "source": [
    "print(div(15, 5))\n",
    "print(add(15, 5))\n",
    "print(sub(15, 5))"
   ]
  }
 ],
 "metadata": {
  "kernelspec": {
   "display_name": "Python 3 (ipykernel)",
   "language": "python",
   "name": "python3"
  },
  "language_info": {
   "codemirror_mode": {
    "name": "ipython",
    "version": 3
   },
   "file_extension": ".py",
   "mimetype": "text/x-python",
   "name": "python",
   "nbconvert_exporter": "python",
   "pygments_lexer": "ipython3",
   "version": "3.9.10"
  }
 },
 "nbformat": 4,
 "nbformat_minor": 5
}
