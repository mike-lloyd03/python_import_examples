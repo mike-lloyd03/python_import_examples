{
 "cells": [
  {
   "cell_type": "code",
   "execution_count": 3,
   "id": "671bd2ec",
   "metadata": {},
   "outputs": [],
   "source": [
    "from math_fcns.div import div  # imported from subdirectory with a blank __init__.py\n",
    "from more_fcns import add  # imported from a subdirectory with a __init__.py which imports stuff\n",
    "from subtract import sub  # imported from same directory with no __init__.py"
   ]
  },
  {
   "cell_type": "code",
   "execution_count": 4,
   "id": "876efbf1",
   "metadata": {},
   "outputs": [
    {
     "data": {
      "text/plain": [
       "14"
      ]
     },
     "execution_count": 4,
     "metadata": {},
     "output_type": "execute_result"
    }
   ],
   "source": [
    "sub(19, 5)"
   ]
  },
  {
   "cell_type": "code",
   "execution_count": 5,
   "id": "9a18570d",
   "metadata": {},
   "outputs": [
    {
     "data": {
      "text/plain": [
       "7.0"
      ]
     },
     "execution_count": 5,
     "metadata": {},
     "output_type": "execute_result"
    }
   ],
   "source": [
    "div(35, 5)"
   ]
  },
  {
   "cell_type": "code",
   "execution_count": 6,
   "id": "31074df3",
   "metadata": {},
   "outputs": [
    {
     "data": {
      "text/plain": [
       "1010"
      ]
     },
     "execution_count": 6,
     "metadata": {},
     "output_type": "execute_result"
    }
   ],
   "source": [
    "add(10, 1000)"
   ]
  }
 ],
 "metadata": {
  "kernelspec": {
   "display_name": "Python 3 (ipykernel)",
   "language": "python",
   "name": "python3"
  },
  "language_info": {
   "codemirror_mode": {
    "name": "ipython",
    "version": 3
   },
   "file_extension": ".py",
   "mimetype": "text/x-python",
   "name": "python",
   "nbconvert_exporter": "python",
   "pygments_lexer": "ipython3",
   "version": "3.9.10"
  }
 },
 "nbformat": 4,
 "nbformat_minor": 5
}
